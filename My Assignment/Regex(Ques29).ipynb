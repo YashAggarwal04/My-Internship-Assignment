{
 "cells": [
  {
   "cell_type": "code",
   "execution_count": 14,
   "id": "8f34fe1d",
   "metadata": {},
   "outputs": [],
   "source": [
    "import re\n",
    "text= \"Ron was born on 12-09-1992 and he was admitted to school 15-12-1999.\"\n",
    "pattern = re.compile(r'\\b\\d{2}-\\d{2}-\\d{4}\\b')\n",
    "dates = pattern.findall(text)"
   ]
  },
  {
   "cell_type": "code",
   "execution_count": 16,
   "id": "2c0d64ac",
   "metadata": {},
   "outputs": [
    {
     "name": "stdout",
     "output_type": "stream",
     "text": [
      "['12-09-1992', '15-12-1999']\n"
     ]
    }
   ],
   "source": [
    "print(dates)"
   ]
  },
  {
   "cell_type": "code",
   "execution_count": null,
   "id": "ce6af083",
   "metadata": {},
   "outputs": [],
   "source": []
  }
 ],
 "metadata": {
  "kernelspec": {
   "display_name": "Python 3 (ipykernel)",
   "language": "python",
   "name": "python3"
  },
  "language_info": {
   "codemirror_mode": {
    "name": "ipython",
    "version": 3
   },
   "file_extension": ".py",
   "mimetype": "text/x-python",
   "name": "python",
   "nbconvert_exporter": "python",
   "pygments_lexer": "ipython3",
   "version": "3.9.13"
  }
 },
 "nbformat": 4,
 "nbformat_minor": 5
}
