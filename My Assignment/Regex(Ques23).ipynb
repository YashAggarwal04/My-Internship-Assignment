{
 "cells": [
  {
   "cell_type": "code",
   "execution_count": 8,
   "id": "627b60ca",
   "metadata": {},
   "outputs": [],
   "source": [
    "import re\n",
    "def proper_sp(text):\n",
    "    result=re.sub(r'(?=[A-Z])', ' ', text)\n",
    "    return result"
   ]
  },
  {
   "cell_type": "code",
   "execution_count": 10,
   "id": "ed52a89e",
   "metadata": {},
   "outputs": [],
   "source": [
    "text=\"RegularExpressionIsAnImportantTopicInPython\"\n",
    "output = proper_sp(text)"
   ]
  },
  {
   "cell_type": "code",
   "execution_count": 11,
   "id": "986983b7",
   "metadata": {},
   "outputs": [
    {
     "name": "stdout",
     "output_type": "stream",
     "text": [
      " Regular Expression Is An Important Topic In Python\n"
     ]
    }
   ],
   "source": [
    "print(output)"
   ]
  },
  {
   "cell_type": "code",
   "execution_count": null,
   "id": "f4251d96",
   "metadata": {},
   "outputs": [],
   "source": []
  }
 ],
 "metadata": {
  "kernelspec": {
   "display_name": "Python 3 (ipykernel)",
   "language": "python",
   "name": "python3"
  },
  "language_info": {
   "codemirror_mode": {
    "name": "ipython",
    "version": 3
   },
   "file_extension": ".py",
   "mimetype": "text/x-python",
   "name": "python",
   "nbconvert_exporter": "python",
   "pygments_lexer": "ipython3",
   "version": "3.9.13"
  }
 },
 "nbformat": 4,
 "nbformat_minor": 5
}
