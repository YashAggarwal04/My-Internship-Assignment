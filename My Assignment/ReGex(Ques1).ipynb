{
 "cells": [
  {
   "cell_type": "code",
   "execution_count": 1,
   "id": "73eb1ace",
   "metadata": {},
   "outputs": [
    {
     "name": "stdout",
     "output_type": "stream",
     "text": [
      "txt: Python Excercise, PHP exercise.\n",
      "Except output: Python:Excercise::PHP:exercise:\n"
     ]
    }
   ],
   "source": [
    "import re\n",
    "txt= 'Python Excercise, PHP exercise.'\n",
    "output=re.sub(r\"[ ,.]\",\":\",txt)\n",
    "print(\"txt:\",txt)\n",
    "print(\"Except output:\",output)\n",
    "\n"
   ]
  },
  {
   "cell_type": "code",
   "execution_count": null,
   "id": "2e8629d3",
   "metadata": {},
   "outputs": [],
   "source": []
  }
 ],
 "metadata": {
  "kernelspec": {
   "display_name": "Python 3 (ipykernel)",
   "language": "python",
   "name": "python3"
  },
  "language_info": {
   "codemirror_mode": {
    "name": "ipython",
    "version": 3
   },
   "file_extension": ".py",
   "mimetype": "text/x-python",
   "name": "python",
   "nbconvert_exporter": "python",
   "pygments_lexer": "ipython3",
   "version": "3.9.13"
  }
 },
 "nbformat": 4,
 "nbformat_minor": 5
}
