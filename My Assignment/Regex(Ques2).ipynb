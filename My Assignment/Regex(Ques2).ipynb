{
 "cells": [
  {
   "cell_type": "code",
   "execution_count": 32,
   "id": "17fe9640",
   "metadata": {
    "scrolled": true
   },
   "outputs": [],
   "source": [
    "import pandas as pd\n",
    "import re\n",
    "Dict= {'SUMMARY' : ['hello, world!', 'XXXXX test', '123four, five:; six...']}\n",
    "output=pd.DataFrame(Dict)\n",
    "\n",
    "    "
   ]
  },
  {
   "cell_type": "code",
   "execution_count": 55,
   "id": "2268ba89",
   "metadata": {},
   "outputs": [],
   "source": [
    "def Cl_spl(text):\n",
    "    clean = re.sub(r'[^\\w\\s\\d]', '', text)\n",
    "    return clean"
   ]
  },
  {
   "cell_type": "code",
   "execution_count": 57,
   "id": "2b07ceed",
   "metadata": {},
   "outputs": [
    {
     "name": "stdout",
     "output_type": "stream",
     "text": [
      "            SUMMARY\n",
      "0       hello world\n",
      "1        XXXXX test\n",
      "2  123four five six\n"
     ]
    }
   ],
   "source": [
    "output['SUMMARY'] = output['SUMMARY'].apply(Cl_spl)\n",
    "print(output)\n"
   ]
  },
  {
   "cell_type": "code",
   "execution_count": null,
   "id": "3652f968",
   "metadata": {},
   "outputs": [],
   "source": []
  },
  {
   "cell_type": "code",
   "execution_count": null,
   "id": "cf808ff9",
   "metadata": {},
   "outputs": [],
   "source": []
  }
 ],
 "metadata": {
  "kernelspec": {
   "display_name": "Python 3 (ipykernel)",
   "language": "python",
   "name": "python3"
  },
  "language_info": {
   "codemirror_mode": {
    "name": "ipython",
    "version": 3
   },
   "file_extension": ".py",
   "mimetype": "text/x-python",
   "name": "python",
   "nbconvert_exporter": "python",
   "pygments_lexer": "ipython3",
   "version": "3.9.13"
  }
 },
 "nbformat": 4,
 "nbformat_minor": 5
}
