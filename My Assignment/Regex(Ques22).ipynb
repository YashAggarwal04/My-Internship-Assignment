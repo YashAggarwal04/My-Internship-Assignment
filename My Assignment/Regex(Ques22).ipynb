{
 "cells": [
  {
   "cell_type": "code",
   "execution_count": 1,
   "id": "a38ca2f6",
   "metadata": {},
   "outputs": [],
   "source": [
    "import re\n",
    "text= \"My marks in each semester are: 947, 896, 926, 524, 734, 950, 642\"\n",
    "number=re.findall('\\d+',text)"
   ]
  },
  {
   "cell_type": "code",
   "execution_count": 2,
   "id": "a22a3852",
   "metadata": {},
   "outputs": [],
   "source": [
    "number = map(int, number)"
   ]
  },
  {
   "cell_type": "code",
   "execution_count": 3,
   "id": "3187fc2d",
   "metadata": {},
   "outputs": [
    {
     "name": "stdout",
     "output_type": "stream",
     "text": [
      "950\n"
     ]
    }
   ],
   "source": [
    "print(max(number))"
   ]
  },
  {
   "cell_type": "code",
   "execution_count": null,
   "id": "063aa604",
   "metadata": {},
   "outputs": [],
   "source": []
  }
 ],
 "metadata": {
  "kernelspec": {
   "display_name": "Python 3 (ipykernel)",
   "language": "python",
   "name": "python3"
  },
  "language_info": {
   "codemirror_mode": {
    "name": "ipython",
    "version": 3
   },
   "file_extension": ".py",
   "mimetype": "text/x-python",
   "name": "python",
   "nbconvert_exporter": "python",
   "pygments_lexer": "ipython3",
   "version": "3.9.13"
  }
 },
 "nbformat": 4,
 "nbformat_minor": 5
}
