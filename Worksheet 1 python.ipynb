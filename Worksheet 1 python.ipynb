{
 "cells": [
  {
   "cell_type": "code",
   "execution_count": null,
   "id": "985649c7",
   "metadata": {},
   "outputs": [],
   "source": [
    "x=int(input(\"Enter a number=\"))\n",
    "n=1\n",
    "while (x>0):\n",
    "    n=n*x\n",
    "    x=x-1\n",
    " print(f\"Factorial Number:\",n)"
   ]
  },
  {
   "cell_type": "code",
   "execution_count": null,
   "id": "317be8f0",
   "metadata": {},
   "outputs": [],
   "source": [
    "x=int(input(\"Enter a number=\"))\n",
    "i=0\n",
    "n=1\n",
    "while(n<=x):\n",
    "    if (x%n==0):\n",
    "         i=i+1\n",
    "    n+1=n\n",
    "if(i==2):\n",
    "    print(\"Prime Number\")\n",
    "else:\n",
    "    print(\"Composite Number\")"
   ]
  },
  {
   "cell_type": "code",
   "execution_count": null,
   "id": "d10989dc",
   "metadata": {},
   "outputs": [],
   "source": [
    "i=input(\"Enter a number=\")\n",
    "x=i\n",
    "rev=0\n",
    "while(i<0):\n",
    "    rev=rev*10+i%10\n",
    "    i=i//10\n",
    "if(x==rev):\n",
    "    print(\"Number is Palindrome\")\n",
    "else:\n",
    "    print(\"Number is not Palindrome\")"
   ]
  },
  {
   "cell_type": "code",
   "execution_count": null,
   "id": "59a978e7",
   "metadata": {},
   "outputs": [],
   "source": [
    "import math\n",
    "a=input(\"Side 1:\")\n",
    "b=input(\"Side 2:\")\n",
    "c=math.sqrt(a**2+b**2)\n",
    "print(c)"
   ]
  },
  {
   "cell_type": "code",
   "execution_count": null,
   "id": "cadaed0f",
   "metadata": {},
   "outputs": [],
   "source": []
  }
 ],
 "metadata": {
  "kernelspec": {
   "display_name": "Python 3 (ipykernel)",
   "language": "python",
   "name": "python3"
  },
  "language_info": {
   "codemirror_mode": {
    "name": "ipython",
    "version": 3
   },
   "file_extension": ".py",
   "mimetype": "text/x-python",
   "name": "python",
   "nbconvert_exporter": "python",
   "pygments_lexer": "ipython3",
   "version": "3.9.13"
  }
 },
 "nbformat": 4,
 "nbformat_minor": 5
}
